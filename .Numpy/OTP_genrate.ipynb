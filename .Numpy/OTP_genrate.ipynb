{
 "cells": [
  {
   "cell_type": "markdown",
   "id": "83841beb",
   "metadata": {},
   "source": [
    "- we genrate OTP using python code "
   ]
  },
  {
   "cell_type": "code",
   "execution_count": 1,
   "id": "052f81d9",
   "metadata": {},
   "outputs": [
    {
     "name": "stdout",
     "output_type": "stream",
     "text": [
      "Your OTP is:461663\n"
     ]
    }
   ],
   "source": [
    "import random\n",
    "\n",
    "def generate_otp(length=6):\n",
    "    \"\"\"Generate a numeric OTP of a specified length\"\"\"\n",
    "    digits = \"0123456\"\n",
    "    otp = \"\".join(random.choice(digits) for _ in range(length))\n",
    "    return otp\n",
    "\n",
    "otp_length = 6\n",
    "otp = generate_otp(otp_length)\n",
    "print(f\"Your OTP is:{otp}\")"
   ]
  },
  {
   "cell_type": "code",
   "execution_count": null,
   "id": "0319679b",
   "metadata": {},
   "outputs": [],
   "source": []
  }
 ],
 "metadata": {
  "kernelspec": {
   "display_name": "Python 3",
   "language": "python",
   "name": "python3"
  },
  "language_info": {
   "codemirror_mode": {
    "name": "ipython",
    "version": 3
   },
   "file_extension": ".py",
   "mimetype": "text/x-python",
   "name": "python",
   "nbconvert_exporter": "python",
   "pygments_lexer": "ipython3",
   "version": "3.13.3"
  }
 },
 "nbformat": 4,
 "nbformat_minor": 5
}
